{
 "cells": [
  {
   "cell_type": "code",
   "execution_count": 1,
   "id": "67f3947b",
   "metadata": {},
   "outputs": [],
   "source": [
    "import pandas as pd\n",
    "\n",
    "import matplotlib.pyplot as plt\n",
    "from pylab import rcParams\n",
    "\n",
    "import sklearn\n",
    "from sklearn.linear_model import LinearRegression\n",
    "from sklearn.preprocessing import scale\n"
   ]
  },
  {
   "cell_type": "code",
   "execution_count": 2,
   "id": "0891f3f8",
   "metadata": {},
   "outputs": [
    {
     "data": {
      "text/html": [
       "<div>\n",
       "<style scoped>\n",
       "    .dataframe tbody tr th:only-of-type {\n",
       "        vertical-align: middle;\n",
       "    }\n",
       "\n",
       "    .dataframe tbody tr th {\n",
       "        vertical-align: top;\n",
       "    }\n",
       "\n",
       "    .dataframe thead th {\n",
       "        text-align: right;\n",
       "    }\n",
       "</style>\n",
       "<table border=\"1\" class=\"dataframe\">\n",
       "  <thead>\n",
       "    <tr style=\"text-align: right;\">\n",
       "      <th></th>\n",
       "      <th>Risk</th>\n",
       "      <th>Age</th>\n",
       "      <th>BloodPressure</th>\n",
       "      <th>Smoker</th>\n",
       "    </tr>\n",
       "  </thead>\n",
       "  <tbody>\n",
       "    <tr>\n",
       "      <th>0</th>\n",
       "      <td>12</td>\n",
       "      <td>57</td>\n",
       "      <td>152</td>\n",
       "      <td>No</td>\n",
       "    </tr>\n",
       "    <tr>\n",
       "      <th>1</th>\n",
       "      <td>24</td>\n",
       "      <td>67</td>\n",
       "      <td>163</td>\n",
       "      <td>No</td>\n",
       "    </tr>\n",
       "    <tr>\n",
       "      <th>2</th>\n",
       "      <td>13</td>\n",
       "      <td>58</td>\n",
       "      <td>155</td>\n",
       "      <td>No</td>\n",
       "    </tr>\n",
       "    <tr>\n",
       "      <th>3</th>\n",
       "      <td>56</td>\n",
       "      <td>86</td>\n",
       "      <td>177</td>\n",
       "      <td>Yes</td>\n",
       "    </tr>\n",
       "    <tr>\n",
       "      <th>4</th>\n",
       "      <td>28</td>\n",
       "      <td>59</td>\n",
       "      <td>196</td>\n",
       "      <td>No</td>\n",
       "    </tr>\n",
       "  </tbody>\n",
       "</table>\n",
       "</div>"
      ],
      "text/plain": [
       "   Risk  Age  BloodPressure Smoker\n",
       "0    12   57            152     No\n",
       "1    24   67            163     No\n",
       "2    13   58            155     No\n",
       "3    56   86            177    Yes\n",
       "4    28   59            196     No"
      ]
     },
     "execution_count": 2,
     "metadata": {},
     "output_type": "execute_result"
    }
   ],
   "source": [
    "#Importing stroke excel into pandas;\n",
    "df_stroke=pd.read_excel('Stroke.xlsx')\n",
    "df_stroke.head()"
   ]
  },
  {
   "cell_type": "code",
   "execution_count": 3,
   "id": "dd53d1c5",
   "metadata": {},
   "outputs": [
    {
     "data": {
      "text/html": [
       "<div>\n",
       "<style scoped>\n",
       "    .dataframe tbody tr th:only-of-type {\n",
       "        vertical-align: middle;\n",
       "    }\n",
       "\n",
       "    .dataframe tbody tr th {\n",
       "        vertical-align: top;\n",
       "    }\n",
       "\n",
       "    .dataframe thead th {\n",
       "        text-align: right;\n",
       "    }\n",
       "</style>\n",
       "<table border=\"1\" class=\"dataframe\">\n",
       "  <thead>\n",
       "    <tr style=\"text-align: right;\">\n",
       "      <th></th>\n",
       "      <th>Risk</th>\n",
       "      <th>Age</th>\n",
       "      <th>BloodPressure</th>\n",
       "      <th>Smoker</th>\n",
       "    </tr>\n",
       "  </thead>\n",
       "  <tbody>\n",
       "    <tr>\n",
       "      <th>0</th>\n",
       "      <td>12</td>\n",
       "      <td>57</td>\n",
       "      <td>152</td>\n",
       "      <td>0</td>\n",
       "    </tr>\n",
       "    <tr>\n",
       "      <th>1</th>\n",
       "      <td>24</td>\n",
       "      <td>67</td>\n",
       "      <td>163</td>\n",
       "      <td>0</td>\n",
       "    </tr>\n",
       "    <tr>\n",
       "      <th>2</th>\n",
       "      <td>13</td>\n",
       "      <td>58</td>\n",
       "      <td>155</td>\n",
       "      <td>0</td>\n",
       "    </tr>\n",
       "    <tr>\n",
       "      <th>3</th>\n",
       "      <td>56</td>\n",
       "      <td>86</td>\n",
       "      <td>177</td>\n",
       "      <td>1</td>\n",
       "    </tr>\n",
       "    <tr>\n",
       "      <th>4</th>\n",
       "      <td>28</td>\n",
       "      <td>59</td>\n",
       "      <td>196</td>\n",
       "      <td>0</td>\n",
       "    </tr>\n",
       "  </tbody>\n",
       "</table>\n",
       "</div>"
      ],
      "text/plain": [
       "   Risk  Age  BloodPressure  Smoker\n",
       "0    12   57            152       0\n",
       "1    24   67            163       0\n",
       "2    13   58            155       0\n",
       "3    56   86            177       1\n",
       "4    28   59            196       0"
      ]
     },
     "execution_count": 3,
     "metadata": {},
     "output_type": "execute_result"
    }
   ],
   "source": [
    "#Replacing No and Yes from the Smoker column to 0 and 1's;\n",
    "df_stroke['Smoker'] = df_stroke['Smoker'].replace({'No':0,'Yes':1})\n",
    "df_stroke.head()"
   ]
  },
  {
   "cell_type": "code",
   "execution_count": 4,
   "id": "67b9f720",
   "metadata": {},
   "outputs": [],
   "source": [
    "#Subsetting predictors for regression equation\n",
    "stroke_predictors = df_stroke[['Age','BloodPressure','Smoker']].values\n",
    "stroke_target = df_stroke[['Risk']].values\n",
    "stroke_predictor_names = ['Age','BloodPressure','Smoker']\n",
    "X, y = stroke_predictors, stroke_target"
   ]
  },
  {
   "cell_type": "code",
   "execution_count": 5,
   "id": "d59363ca",
   "metadata": {},
   "outputs": [
    {
     "name": "stdout",
     "output_type": "stream",
     "text": [
      "[-91.75949844] [[1.07674106 0.25181347 8.73987106]]\n"
     ]
    }
   ],
   "source": [
    "#Printing regression values;\n",
    "LinReg = LinearRegression()\n",
    "\n",
    "LinReg.fit(X,y)\n",
    "\n",
    "print(LinReg.intercept_,LinReg.coef_)"
   ]
  },
  {
   "cell_type": "markdown",
   "id": "235496a0",
   "metadata": {},
   "source": [
    "y = m1x1 + m2x2 + m3x3 + b \n",
    "<br>m1 = Age coefficient\n",
    "<br>m2 = Blood pressure coefficient\n",
    "<br>m3 = Smoker status coefficient\n",
    "\n",
    "y= 1.077x1 + 0.252x2x2 + 8.740x3 -91.759"
   ]
  },
  {
   "cell_type": "code",
   "execution_count": 6,
   "id": "e242d7b8",
   "metadata": {},
   "outputs": [
    {
     "name": "stdout",
     "output_type": "stream",
     "text": [
      "R2=  0.8734868200235466\n"
     ]
    }
   ],
   "source": [
    "#Printing correlation score;\n",
    "print('R2= ',LinReg.score(X,y))"
   ]
  },
  {
   "cell_type": "markdown",
   "id": "500bc132",
   "metadata": {},
   "source": [
    "The Coefficient value of 0.873 suggests that the model explains 87.3% of the risk of having a stroke based on age, blood pressure, and smoker status. This means that the model is a good fit for the data and that it can reliably predict the risk of having a stroke based on these factors."
   ]
  },
  {
   "cell_type": "code",
   "execution_count": 7,
   "id": "b7a13a73",
   "metadata": {},
   "outputs": [
    {
     "data": {
      "text/html": [
       "<div>\n",
       "<style scoped>\n",
       "    .dataframe tbody tr th:only-of-type {\n",
       "        vertical-align: middle;\n",
       "    }\n",
       "\n",
       "    .dataframe tbody tr th {\n",
       "        vertical-align: top;\n",
       "    }\n",
       "\n",
       "    .dataframe thead th {\n",
       "        text-align: right;\n",
       "    }\n",
       "</style>\n",
       "<table border=\"1\" class=\"dataframe\">\n",
       "  <thead>\n",
       "    <tr style=\"text-align: right;\">\n",
       "      <th></th>\n",
       "      <th>Predicted Risk</th>\n",
       "    </tr>\n",
       "  </thead>\n",
       "  <tbody>\n",
       "    <tr>\n",
       "      <th>0</th>\n",
       "      <td>7.934</td>\n",
       "    </tr>\n",
       "    <tr>\n",
       "      <th>1</th>\n",
       "      <td>21.476</td>\n",
       "    </tr>\n",
       "    <tr>\n",
       "      <th>2</th>\n",
       "      <td>9.767</td>\n",
       "    </tr>\n",
       "    <tr>\n",
       "      <th>3</th>\n",
       "      <td>54.207</td>\n",
       "    </tr>\n",
       "    <tr>\n",
       "      <th>4</th>\n",
       "      <td>21.176</td>\n",
       "    </tr>\n",
       "  </tbody>\n",
       "</table>\n",
       "</div>"
      ],
      "text/plain": [
       "   Predicted Risk\n",
       "0           7.934\n",
       "1          21.476\n",
       "2           9.767\n",
       "3          54.207\n",
       "4          21.176"
      ]
     },
     "execution_count": 7,
     "metadata": {},
     "output_type": "execute_result"
    }
   ],
   "source": [
    "#Creating new data frame that contains the predicted risk values based out the previous regression formula ;\n",
    "risk_data= 1.077*df_stroke['Age'] + 0.252*df_stroke['BloodPressure'] +  8.740*df_stroke['Smoker'] -91.759\n",
    "calculated_risk= pd.DataFrame(risk_data, columns=['Predicted Risk'])\n",
    "calculated_risk.head()"
   ]
  },
  {
   "cell_type": "code",
   "execution_count": 8,
   "id": "88c1fbd0",
   "metadata": {},
   "outputs": [
    {
     "data": {
      "text/html": [
       "<div>\n",
       "<style scoped>\n",
       "    .dataframe tbody tr th:only-of-type {\n",
       "        vertical-align: middle;\n",
       "    }\n",
       "\n",
       "    .dataframe tbody tr th {\n",
       "        vertical-align: top;\n",
       "    }\n",
       "\n",
       "    .dataframe thead th {\n",
       "        text-align: right;\n",
       "    }\n",
       "</style>\n",
       "<table border=\"1\" class=\"dataframe\">\n",
       "  <thead>\n",
       "    <tr style=\"text-align: right;\">\n",
       "      <th></th>\n",
       "      <th>Risk</th>\n",
       "      <th>Predicted Risk</th>\n",
       "    </tr>\n",
       "  </thead>\n",
       "  <tbody>\n",
       "    <tr>\n",
       "      <th>0</th>\n",
       "      <td>12</td>\n",
       "      <td>7.934</td>\n",
       "    </tr>\n",
       "    <tr>\n",
       "      <th>1</th>\n",
       "      <td>24</td>\n",
       "      <td>21.476</td>\n",
       "    </tr>\n",
       "    <tr>\n",
       "      <th>2</th>\n",
       "      <td>13</td>\n",
       "      <td>9.767</td>\n",
       "    </tr>\n",
       "    <tr>\n",
       "      <th>3</th>\n",
       "      <td>56</td>\n",
       "      <td>54.207</td>\n",
       "    </tr>\n",
       "    <tr>\n",
       "      <th>4</th>\n",
       "      <td>28</td>\n",
       "      <td>21.176</td>\n",
       "    </tr>\n",
       "  </tbody>\n",
       "</table>\n",
       "</div>"
      ],
      "text/plain": [
       "   Risk  Predicted Risk\n",
       "0    12           7.934\n",
       "1    24          21.476\n",
       "2    13           9.767\n",
       "3    56          54.207\n",
       "4    28          21.176"
      ]
     },
     "execution_count": 8,
     "metadata": {},
     "output_type": "execute_result"
    }
   ],
   "source": [
    "#Creating new data frame with the true risk in one column  and the another with the predicted risk ;\n",
    "predicted = df_stroke[['Risk']].join(calculated_risk[['Predicted Risk']])\n",
    "predicted.head()"
   ]
  },
  {
   "cell_type": "code",
   "execution_count": 9,
   "id": "d928a01e",
   "metadata": {},
   "outputs": [
    {
     "data": {
      "image/png": "[encoded data removed]",
      "text/plain": [
       "<Figure size 640x480 with 1 Axes>"
      ]
     },
     "metadata": {},
     "output_type": "display_data"
    }
   ],
   "source": [
    "#Plotting scatter diagram of risk and predicted risk;\n",
    "plt.scatter(predicted['Risk'], predicted['Predicted Risk'])\n",
    "plt.xlabel('Risk')\n",
    "plt.ylabel('Predicted Risk')\n",
    "plt.title('Scatter Plot of Risk vs Predicted Risk')\n",
    "plt.show()"
   ]
  },
  {
   "cell_type": "markdown",
   "id": "c7a66c76",
   "metadata": {},
   "source": [
    "Based on the scatter plot, it appears that the regression model is not biased, as the predicted risk values are generally close to the actual risk values and there is a clear linear relationship between them."
   ]
  },
  {
   "cell_type": "code",
   "execution_count": 10,
   "id": "9db899e7",
   "metadata": {
    "scrolled": false
   },
   "outputs": [
    {
     "data": {
      "image/png": "[encoded data removed]",
      "text/plain": [
       "<Figure size 640x480 with 1 Axes>"
      ]
     },
     "metadata": {},
     "output_type": "display_data"
    }
   ],
   "source": [
    "#Plotting histogram of the distribution of the risk of having a stroke\n",
    "plt.hist(df_stroke['Risk'], bins=10)\n",
    "plt.xlabel('Risk')\n",
    "plt.ylabel('Frequency')\n",
    "plt.title('Histogram of Risk Values')\n",
    "plt.show()"
   ]
  },
  {
   "cell_type": "code",
   "execution_count": 11,
   "id": "3dfb343f",
   "metadata": {},
   "outputs": [
    {
     "data": {
      "image/png": "[encoded data removed]",
      "text/plain": [
       "<Figure size 640x480 with 1 Axes>"
      ]
     },
     "metadata": {},
     "output_type": "display_data"
    }
   ],
   "source": [
    "#Plotting box plot of the risk of having a stroke based on smoker status;\n",
    "df_stroke.boxplot(column='Risk', by='Smoker')\n",
    "plt.xlabel('Smoker Status')\n",
    "plt.ylabel('Risk')\n",
    "plt.title('Box Plot of Risk of Having a Stroke by Smoker Status')\n",
    "plt.suptitle('')\n",
    "plt.show()"
   ]
  },
  {
   "cell_type": "markdown",
   "id": "a0a6ce0d",
   "metadata": {},
   "source": []
  }
 ],
 "metadata": {
  "kernelspec": {
   "display_name": "Python 3 (ipykernel)",
   "language": "python",
   "name": "python3"
  },
  "language_info": {
   "codemirror_mode": {
    "name": "ipython",
    "version": 3
   },
   "file_extension": ".py",
   "mimetype": "text/x-python",
   "name": "python",
   "nbconvert_exporter": "python",
   "pygments_lexer": "ipython3",
   "version": "3.9.13"
  }
 },
 "nbformat": 4,
 "nbformat_minor": 5
}
